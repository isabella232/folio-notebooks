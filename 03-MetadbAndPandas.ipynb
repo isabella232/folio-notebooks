{
 "cells": [
  {
   "cell_type": "markdown",
   "id": "dc12197d-f9c4-4251-9269-865839452d46",
   "metadata": {},
   "source": [
    "# Using Pandas and Metadb\n",
    "The popular [Pandas](https://pandas.pydata.org/) data analysis and manipulation tool can be used with the FOLIO [MetaDB](https://librarydataplatform.org/) within a Jupyter notebook. "
   ]
  },
  {
   "cell_type": "markdown",
   "id": "fc5e5e6d-1c21-4b29-9366-e981b7e46140",
   "metadata": {},
   "source": [
    "## Install additional dependencies\n",
    "1. Pandas `pip install pandas`\n",
    "1. Install [SQLalchemy](https://www.sqlalchemy.org/) `pip install psycopg2-binary`"
   ]
  },
  {
   "cell_type": "code",
   "execution_count": null,
   "id": "53fb2bfa-01dd-4846-b29e-33356145956b",
   "metadata": {},
   "outputs": [],
   "source": [
    "import os\n",
    "metadb_url = os.getenv(\"METADB_URL\")\n",
    "user = os.getenv(\"METADB_USER\")\n",
    "password = os.getenv(\"METADB_PASSWORD\")"
   ]
  },
  {
   "cell_type": "code",
   "execution_count": null,
   "id": "a8be1880-8842-4069-bc99-febfca57db7b",
   "metadata": {
    "tags": []
   },
   "outputs": [],
   "source": [
    "import pandas as pd\n",
    "\n",
    "from sqlalchemy import create_engine"
   ]
  },
  {
   "cell_type": "code",
   "execution_count": null,
   "id": "91ed5901-d35a-4f9c-b75e-2f725e91bc22",
   "metadata": {
    "tags": []
   },
   "outputs": [],
   "source": [
    "metadb_engine = create_engine(\"postgresql+psycopg2://{0}:{1}@{2}/{3}\".format(\n",
    "    user,\n",
    "    password,\n",
    "    metadb_url,\n",
    "    \"okapi\"))"
   ]
  },
  {
   "cell_type": "code",
   "execution_count": null,
   "id": "70f73640-4971-4484-af65-93c113e2e5bf",
   "metadata": {
    "tags": []
   },
   "outputs": [],
   "source": [
    "metadb_connection = metadb_engine.connect()"
   ]
  },
  {
   "cell_type": "markdown",
   "id": "fb20f356-8bbd-452f-846e-5611bdff8bda",
   "metadata": {
    "tags": []
   },
   "source": [
    "## Search for Contributor Type"
   ]
  },
  {
   "cell_type": "code",
   "execution_count": null,
   "id": "d28b33ee-6a8c-4b28-89f3-9e941f953cd2",
   "metadata": {
    "tags": []
   },
   "outputs": [],
   "source": [
    "contributor_types_sql = \"\"\"SELECT id, code, name FROM folio_inventory.contributor_type__t__;\"\"\"\n",
    "contributor_types_df = pd.read_sql(contributor_types_sql,\n",
    "                                   con=metadb_connection)"
   ]
  },
  {
   "cell_type": "code",
   "execution_count": null,
   "id": "b7f75b88-4033-4978-8686-d58cc3c63e68",
   "metadata": {
    "tags": []
   },
   "outputs": [],
   "source": [
    "contributor_types_df"
   ]
  },
  {
   "cell_type": "markdown",
   "id": "99d1eda6-88e8-4162-b1f1-3728292cf64d",
   "metadata": {},
   "source": [
    "## Instances with it's Holdings Call Numbers"
   ]
  },
  {
   "cell_type": "code",
   "execution_count": null,
   "id": "daf2ee78-2330-4f52-b4db-d951817a2573",
   "metadata": {},
   "outputs": [],
   "source": [
    "instance_holdings_sql = \"\"\"SELECT instance__t__.id, instance__t__.title, holdings_record__t__.call_number, folio_inventory.location__t__.code\n",
    "FROM folio_inventory.instance__t__, folio_inventory.holdings_record__t__, folio_inventory.location__t__\n",
    "WHERE folio_inventory.holdings_record__t__.instance_id = folio_inventory.instance__t__.id\n",
    "AND folio_inventory.holdings_record__t__.permanent_location_id = folio_inventory.location__t__.id\n",
    "LIMIT 250;\"\"\""
   ]
  },
  {
   "cell_type": "code",
   "execution_count": null,
   "id": "02d67935-e6f2-4256-b759-576a83be9b09",
   "metadata": {},
   "outputs": [],
   "source": [
    "instance_holdings_df = pd.read_sql(instance_holdings_sql,\n",
    "                                   con=metadb_connection)"
   ]
  },
  {
   "cell_type": "code",
   "execution_count": null,
   "id": "0aabd0e9-808f-4542-a1de-d31300c6f12d",
   "metadata": {
    "tags": []
   },
   "outputs": [],
   "source": [
    "instance_holdings_df"
   ]
  },
  {
   "cell_type": "markdown",
   "id": "53dd30ff-2804-4288-be09-3116009ce23c",
   "metadata": {},
   "source": [
    "## Location Counts with Bar Graphs"
   ]
  },
  {
   "cell_type": "code",
   "execution_count": null,
   "id": "594da013-03f7-492f-9ca8-196fd752ba16",
   "metadata": {
    "tags": []
   },
   "outputs": [],
   "source": [
    "holdings_count_location_sql = \"\"\"SELECT count(holdings_record__t__.id), folio_inventory.location__t__.code\n",
    "FROM folio_inventory.holdings_record__t__, folio_inventory.location__t__\n",
    "WHERE folio_inventory.holdings_record__t__.permanent_location_id = folio_inventory.location__t__.id\n",
    "GROUP BY folio_inventory.location__t__.code;\"\"\""
   ]
  },
  {
   "cell_type": "code",
   "execution_count": null,
   "id": "65312c31-f7ab-40d0-a048-94c8b0176735",
   "metadata": {
    "tags": []
   },
   "outputs": [],
   "source": [
    "holdings_df = pd.read_sql(holdings_count_location_sql,\n",
    "                          con=metadb_connection)"
   ]
  },
  {
   "cell_type": "code",
   "execution_count": null,
   "id": "4b3a43ce-c947-4cc6-ad2f-add683ba72e8",
   "metadata": {
    "tags": []
   },
   "outputs": [],
   "source": [
    "holdings_100k_df = holdings_df.loc[holdings_df[\"count\"] > 100_000]"
   ]
  },
  {
   "cell_type": "code",
   "execution_count": null,
   "id": "08e3e264-c086-4647-a366-ea8ee8dc971a",
   "metadata": {
    "tags": []
   },
   "outputs": [],
   "source": [
    "ax = holdings_100k_df.plot(kind=\"bar\", x=\"code\", y=\"count\", rot=90)\n",
    "ax.set_xlabel(\"Location\")\n",
    "ax.set_ylabel(\"Count\")\n",
    "ax.set_title(\"Holdings by Location\")"
   ]
  },
  {
   "cell_type": "code",
   "execution_count": null,
   "id": "b28489b2-f0f0-4ed1-b443-bbae687fea71",
   "metadata": {
    "tags": []
   },
   "outputs": [],
   "source": [
    "holdings_10 = holdings_df.loc[holdings_df[\"count\"] <= 10]"
   ]
  },
  {
   "cell_type": "code",
   "execution_count": null,
   "id": "050575b3-9165-49c9-abe2-c6ae8be8ac4d",
   "metadata": {
    "tags": []
   },
   "outputs": [],
   "source": [
    "ax2 = holdings_10.plot(kind=\"bar\", x=\"code\", y=\"count\", rot=90)\n",
    "ax2.set_xlabel(\"Location\")\n",
    "ax2.set_ylabel(\"Count\")\n",
    "ax2.set_title(\"10 Holdings or Less by Location\")"
   ]
  }
 ],
 "metadata": {
  "kernelspec": {
   "display_name": "Python 3 (ipykernel)",
   "language": "python",
   "name": "python3"
  },
  "language_info": {
   "codemirror_mode": {
    "name": "ipython",
    "version": 3
   },
   "file_extension": ".py",
   "mimetype": "text/x-python",
   "name": "python",
   "nbconvert_exporter": "python",
   "pygments_lexer": "ipython3",
   "version": "3.11.1"
  }
 },
 "nbformat": 4,
 "nbformat_minor": 5
}
