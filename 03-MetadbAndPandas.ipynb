{
 "cells": [
  {
   "cell_type": "markdown",
   "id": "dc12197d-f9c4-4251-9269-865839452d46",
   "metadata": {},
   "source": [
    "# Using Pandas and Metadb\n",
    "The popular [Pandas](https://pandas.pydata.org/) data analysis and manipulation tool can be used with the FOLIO [MetaDB](https://librarydataplatform.org/) within a Jupyter notebook. "
   ]
  },
  {
   "cell_type": "markdown",
   "id": "fc5e5e6d-1c21-4b29-9366-e981b7e46140",
   "metadata": {},
   "source": [
    "## Install additional dependencies\n",
    "1. Pandas `pip install pandas`\n",
    "1. Install [SQLalchemy](https://www.sqlalchemy.org/) `pip install psycopg2-binary`"
   ]
  },
  {
   "cell_type": "code",
   "execution_count": 3,
   "id": "53fb2bfa-01dd-4846-b29e-33356145956b",
   "metadata": {},
   "outputs": [],
   "source": [
    "import os\n",
    "metadb_url = os.getenv(\"METADB_URL\")\n",
    "user = os.getenv(\"METADB_USER\")\n",
    "password = os.getenv(\"METADB_PASSWORD\")"
   ]
  },
  {
   "cell_type": "code",
   "execution_count": 5,
   "id": "a8be1880-8842-4069-bc99-febfca57db7b",
   "metadata": {
    "tags": []
   },
   "outputs": [],
   "source": [
    "import pandas as pd\n",
    "\n",
    "from sqlalchemy import create_engine"
   ]
  },
  {
   "cell_type": "code",
   "execution_count": 6,
   "id": "91ed5901-d35a-4f9c-b75e-2f725e91bc22",
   "metadata": {
    "tags": []
   },
   "outputs": [],
   "source": [
    "metadb_engine = create_engine(\"postgresql+psycopg2://{0}:{1}@{2}/{3}\".format(\n",
    "    user,\n",
    "    password,\n",
    "    metadb_url,\n",
    "    \"okapi\"))"
   ]
  },
  {
   "cell_type": "code",
   "execution_count": 7,
   "id": "70f73640-4971-4484-af65-93c113e2e5bf",
   "metadata": {
    "tags": []
   },
   "outputs": [],
   "source": [
    "metadb_connection = metadb_engine.connect()"
   ]
  },
  {
   "cell_type": "markdown",
   "id": "fb20f356-8bbd-452f-846e-5611bdff8bda",
   "metadata": {
    "tags": []
   },
   "source": [
    "## Search for Contributor Type"
   ]
  },
  {
   "cell_type": "code",
   "execution_count": 9,
   "id": "d28b33ee-6a8c-4b28-89f3-9e941f953cd2",
   "metadata": {
    "tags": []
   },
   "outputs": [],
   "source": [
    "contributor_types_sql = \"\"\"SELECT id, code, name FROM folio_inventory.contributor_type__t__;\"\"\"\n",
    "contributor_types_df = pd.read_sql(contributor_types_sql,\n",
    "                                   con=metadb_connection)"
   ]
  },
  {
   "cell_type": "code",
   "execution_count": 10,
   "id": "b7f75b88-4033-4978-8686-d58cc3c63e68",
   "metadata": {
    "tags": []
   },
   "outputs": [
    {
     "data": {
      "text/html": [
       "<div>\n",
       "<style scoped>\n",
       "    .dataframe tbody tr th:only-of-type {\n",
       "        vertical-align: middle;\n",
       "    }\n",
       "\n",
       "    .dataframe tbody tr th {\n",
       "        vertical-align: top;\n",
       "    }\n",
       "\n",
       "    .dataframe thead th {\n",
       "        text-align: right;\n",
       "    }\n",
       "</style>\n",
       "<table border=\"1\" class=\"dataframe\">\n",
       "  <thead>\n",
       "    <tr style=\"text-align: right;\">\n",
       "      <th></th>\n",
       "      <th>id</th>\n",
       "      <th>code</th>\n",
       "      <th>name</th>\n",
       "    </tr>\n",
       "  </thead>\n",
       "  <tbody>\n",
       "    <tr>\n",
       "      <th>0</th>\n",
       "      <td>0efdaf72-6126-430a-8256-69c42ff6866f</td>\n",
       "      <td>tcd</td>\n",
       "      <td>Technical director</td>\n",
       "    </tr>\n",
       "    <tr>\n",
       "      <th>1</th>\n",
       "      <td>6901fbf1-c038-42eb-a03e-cd65bf91f660</td>\n",
       "      <td>dgg</td>\n",
       "      <td>Degree granting institution</td>\n",
       "    </tr>\n",
       "    <tr>\n",
       "      <th>2</th>\n",
       "      <td>21dda3dc-cebd-4018-8db2-4f6d50ce3d02</td>\n",
       "      <td>own</td>\n",
       "      <td>Owner</td>\n",
       "    </tr>\n",
       "    <tr>\n",
       "      <th>3</th>\n",
       "      <td>81c01802-f61b-4548-954a-22aab027f6e5</td>\n",
       "      <td>clr</td>\n",
       "      <td>Colorist</td>\n",
       "    </tr>\n",
       "    <tr>\n",
       "      <th>4</th>\n",
       "      <td>5d92d9de-adf3-4dea-93b5-580e9a88e696</td>\n",
       "      <td>cpc</td>\n",
       "      <td>Copyright claimant</td>\n",
       "    </tr>\n",
       "    <tr>\n",
       "      <th>...</th>\n",
       "      <td>...</td>\n",
       "      <td>...</td>\n",
       "      <td>...</td>\n",
       "    </tr>\n",
       "    <tr>\n",
       "      <th>263</th>\n",
       "      <td>81bbe282-dca7-4763-bf5a-fe28c8939988</td>\n",
       "      <td>pro</td>\n",
       "      <td>Producer</td>\n",
       "    </tr>\n",
       "    <tr>\n",
       "      <th>264</th>\n",
       "      <td>2576c328-61f1-4684-83cf-4376a66f7731</td>\n",
       "      <td>fld</td>\n",
       "      <td>Field director</td>\n",
       "    </tr>\n",
       "    <tr>\n",
       "      <th>265</th>\n",
       "      <td>c6005151-7005-4ee7-8d6d-a6b72d25377a</td>\n",
       "      <td>vdg</td>\n",
       "      <td>Videographer</td>\n",
       "    </tr>\n",
       "    <tr>\n",
       "      <th>266</th>\n",
       "      <td>a986c8f2-b36a-400d-b09f-9250a753563c</td>\n",
       "      <td>brl</td>\n",
       "      <td>Braille embosser</td>\n",
       "    </tr>\n",
       "    <tr>\n",
       "      <th>267</th>\n",
       "      <td>12b7418a-0c90-4337-90b7-16d2d3157b68</td>\n",
       "      <td>sec</td>\n",
       "      <td>Secretary</td>\n",
       "    </tr>\n",
       "  </tbody>\n",
       "</table>\n",
       "<p>268 rows × 3 columns</p>\n",
       "</div>"
      ],
      "text/plain": [
       "                                       id code                         name\n",
       "0    0efdaf72-6126-430a-8256-69c42ff6866f  tcd           Technical director\n",
       "1    6901fbf1-c038-42eb-a03e-cd65bf91f660  dgg  Degree granting institution\n",
       "2    21dda3dc-cebd-4018-8db2-4f6d50ce3d02  own                        Owner\n",
       "3    81c01802-f61b-4548-954a-22aab027f6e5  clr                     Colorist\n",
       "4    5d92d9de-adf3-4dea-93b5-580e9a88e696  cpc           Copyright claimant\n",
       "..                                    ...  ...                          ...\n",
       "263  81bbe282-dca7-4763-bf5a-fe28c8939988  pro                     Producer\n",
       "264  2576c328-61f1-4684-83cf-4376a66f7731  fld               Field director\n",
       "265  c6005151-7005-4ee7-8d6d-a6b72d25377a  vdg                 Videographer\n",
       "266  a986c8f2-b36a-400d-b09f-9250a753563c  brl             Braille embosser\n",
       "267  12b7418a-0c90-4337-90b7-16d2d3157b68  sec                    Secretary\n",
       "\n",
       "[268 rows x 3 columns]"
      ]
     },
     "execution_count": 10,
     "metadata": {},
     "output_type": "execute_result"
    }
   ],
   "source": [
    "contributor_types_df"
   ]
  },
  {
   "cell_type": "markdown",
   "id": "99d1eda6-88e8-4162-b1f1-3728292cf64d",
   "metadata": {},
   "source": [
    "## Instances with it's Holdings Call Numbers"
   ]
  },
  {
   "cell_type": "code",
   "execution_count": null,
   "id": "daf2ee78-2330-4f52-b4db-d951817a2573",
   "metadata": {},
   "outputs": [],
   "source": [
    "instance_holdings_sql = \"\"\"SELECT instance__t__.id, instance__t__.title, holdings_record__t__.call_number, folio_inventory.location__t__.code\n",
    "FROM folio_inventory.instance__t__, folio_inventory.holdings_record__t__, folio_inventory.location__t__\n",
    "WHERE folio_inventory.holdings_record__t__.instance_id = folio_inventory.instance__t__.id\n",
    "AND folio_inventory.holdings_record__t__.permanent_location_id = folio_inventory.location__t__.id\n",
    "LIMIT 250;\"\"\""
   ]
  }
 ],
 "metadata": {
  "kernelspec": {
   "display_name": "Python 3 (ipykernel)",
   "language": "python",
   "name": "python3"
  },
  "language_info": {
   "codemirror_mode": {
    "name": "ipython",
    "version": 3
   },
   "file_extension": ".py",
   "mimetype": "text/x-python",
   "name": "python",
   "nbconvert_exporter": "python",
   "pygments_lexer": "ipython3",
   "version": "3.11.1"
  }
 },
 "nbformat": 4,
 "nbformat_minor": 5
}
