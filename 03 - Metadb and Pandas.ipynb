{
 "cells": [
  {
   "cell_type": "markdown",
   "id": "dc12197d-f9c4-4251-9269-865839452d46",
   "metadata": {},
   "source": [
    "# Using Pandas and Metadb\n",
    "The popular [Pandas](https://pandas.pydata.org/) data analysis and manipulation tool can be used with the FOLIO [MetaDB](https://librarydataplatform.org/) within a Jupyter notebook. "
   ]
  },
  {
   "cell_type": "markdown",
   "id": "fc5e5e6d-1c21-4b29-9366-e981b7e46140",
   "metadata": {},
   "source": [
    "## Install additional dependencies\n",
    "1. Pandas `pip install pandas`\n",
    "1. Install [SQLalchemy](https://www.sqlalchemy.org/) `pip install psycopg2-binary`"
   ]
  },
  {
   "cell_type": "code",
   "execution_count": null,
   "id": "53fb2bfa-01dd-4846-b29e-33356145956b",
   "metadata": {},
   "outputs": [],
   "source": []
  }
 ],
 "metadata": {
  "kernelspec": {
   "display_name": "Python 3 (ipykernel)",
   "language": "python",
   "name": "python3"
  },
  "language_info": {
   "codemirror_mode": {
    "name": "ipython",
    "version": 3
   },
   "file_extension": ".py",
   "mimetype": "text/x-python",
   "name": "python",
   "nbconvert_exporter": "python",
   "pygments_lexer": "ipython3",
   "version": "3.11.1"
  }
 },
 "nbformat": 4,
 "nbformat_minor": 5
}
