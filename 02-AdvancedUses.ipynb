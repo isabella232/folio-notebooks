{
 "cells": [
  {
   "cell_type": "markdown",
   "id": "c87bbf01-fd2f-4fe8-9dc8-76db30cb848e",
   "metadata": {},
   "source": [
    "# Advanced Uses"
   ]
  },
  {
   "cell_type": "code",
   "execution_count": null,
   "id": "cf3e0003-6c06-4cdf-b3e7-b89f163e064e",
   "metadata": {
    "tags": []
   },
   "outputs": [],
   "source": [
    "import os\n",
    "\n",
    "import requests\n",
    "\n",
    "from folioclient import FolioClient\n",
    "\n",
    "okapi_url = os.getenv(\"OKAPI_URL\")\n",
    "user = os.getenv(\"OKAPI_USER\")\n",
    "password = os.getenv(\"OKAPI_PASSWORD\")\n",
    "tenant = os.getenv(\"TENANT\")\n",
    "\n",
    "folio_client = FolioClient(\n",
    "    okapi_url,\n",
    "    tenant,\n",
    "    user,\n",
    "    password)"
   ]
  },
  {
   "cell_type": "markdown",
   "id": "a49f7b94-ac40-4ca2-a237-3a1b3e0334ba",
   "metadata": {},
   "source": [
    "## Searching with CQL\n",
    "Most of the Okapi's APIs allow for querying using [CQL](https://www.loc.gov/standards/sru/cql/contextSets/theCqlContextSet.html) as a parameter, *query*, that is passed to the endpoint. "
   ]
  },
  {
   "cell_type": "code",
   "execution_count": null,
   "id": "e19e22a6-87ef-46aa-817c-e016e7185f68",
   "metadata": {
    "tags": []
   },
   "outputs": [],
   "source": [
    "result = folio_client.folio_get(\"/inventory/instances\", query=\"?query=(hrid==a2114947)\")"
   ]
  },
  {
   "cell_type": "code",
   "execution_count": null,
   "id": "c8b03ecb-61e5-4165-af26-ec8ecbda51f2",
   "metadata": {
    "tags": []
   },
   "outputs": [],
   "source": [
    "result['instances'][0]"
   ]
  },
  {
   "cell_type": "markdown",
   "id": "4fe76566-3c8a-4999-afef-834a630216f8",
   "metadata": {},
   "source": [
    "### Using FOLIO Frontend with Okapi Endpoints\n",
    "When struggling to construct the correct CQL for a particular endpoint or when trying to figure out what Okapi API endpoint to use, try using the FOLIO UI front-end and use the web browser's developer tools to see what the HTTP request the Stripes front-end is sending to Okapi.\n",
    "\n",
    "#### Orders Example\n",
    "\n",
    "![FOLIO Orders Modules](orders-01.png)\n",
    "\n",
    "Open Web Developers Tools in the Web Browser\n",
    "![Web Developers Tools Menu](orders-02.png)\n",
    "\n",
    "Select Okapi GET call from the Network Tab\n",
    "![Network tab in Web Developers Tools](orders-03.png)"
   ]
  },
  {
   "cell_type": "code",
   "execution_count": null,
   "id": "63d87b54-f0ed-4803-811c-b9f02cae24c2",
   "metadata": {
    "tags": []
   },
   "outputs": [],
   "source": [
    "copied_url = \"\"\"https://okapi-test.stanford.edu/orders/composite-orders?query=(workflowStatus==\"Open\") sortby metadata.updatedDate/sort.descending&limit=50&offset=0\"\"\""
   ]
  },
  {
   "cell_type": "code",
   "execution_count": null,
   "id": "c8fae90e-7de5-4578-873c-40181d566da4",
   "metadata": {
    "tags": []
   },
   "outputs": [],
   "source": [
    "orders_result = requests.get(copied_url,\n",
    "                             headers=folio_client.okapi_headers)"
   ]
  },
  {
   "cell_type": "code",
   "execution_count": null,
   "id": "7827936b-264c-429a-afa8-55aa66dd2ff5",
   "metadata": {
    "tags": []
   },
   "outputs": [],
   "source": [
    "orders_result.json()"
   ]
  },
  {
   "cell_type": "markdown",
   "id": "f99efd97-0626-45e3-a02d-341028370381",
   "metadata": {},
   "source": [
    "## Creating a Resource\n",
    "We're going to simulate create a new Instance Record by first downloading an existing Instance, changing the uuid, removing the hrid, and additional changes and then using a `requests` POST to create a new record."
   ]
  },
  {
   "cell_type": "code",
   "execution_count": null,
   "id": "5c527f68-4aab-4c72-8f04-7d577f414133",
   "metadata": {
    "tags": []
   },
   "outputs": [],
   "source": [
    "import uuid"
   ]
  },
  {
   "cell_type": "code",
   "execution_count": null,
   "id": "163cf38c-9433-4b3d-93e2-cac5201066a9",
   "metadata": {
    "tags": []
   },
   "outputs": [],
   "source": [
    "instance = folio_client.folio_get(\"/instance-storage/instances/35f129af-2371-5638-9881-6d32ed50ecf1\")"
   ]
  },
  {
   "cell_type": "code",
   "execution_count": null,
   "id": "ce0eb5bb-9346-4063-afb8-120014e94530",
   "metadata": {
    "tags": []
   },
   "outputs": [],
   "source": [
    "instance"
   ]
  },
  {
   "cell_type": "code",
   "execution_count": null,
   "id": "2b17d536-2539-4946-9897-f55fd876fcf2",
   "metadata": {
    "tags": []
   },
   "outputs": [],
   "source": [
    "del instance['hrid']"
   ]
  },
  {
   "cell_type": "code",
   "execution_count": null,
   "id": "7ebec281-4be5-4343-90c3-be3b9b9dcfd2",
   "metadata": {
    "tags": []
   },
   "outputs": [],
   "source": [
    "new_instance_uuid = str(uuid.uuid4())"
   ]
  },
  {
   "cell_type": "code",
   "execution_count": null,
   "id": "36c063f9-17bd-4ba6-b989-00c884b6ec3b",
   "metadata": {
    "tags": []
   },
   "outputs": [],
   "source": [
    "instance['id'] = new_instance_uuid"
   ]
  },
  {
   "cell_type": "code",
   "execution_count": null,
   "id": "e252286a-028a-4dcc-a492-31d95452dea4",
   "metadata": {
    "tags": []
   },
   "outputs": [],
   "source": [
    "del instance['_version']"
   ]
  },
  {
   "cell_type": "code",
   "execution_count": null,
   "id": "8d3820e8-c475-4719-9e6d-852112eecc40",
   "metadata": {
    "tags": []
   },
   "outputs": [],
   "source": [
    "instance['title']"
   ]
  },
  {
   "cell_type": "code",
   "execution_count": null,
   "id": "cbceca55-3a76-4fda-a160-db363f509ebb",
   "metadata": {
    "tags": []
   },
   "outputs": [],
   "source": [
    "instance['title'] = f\"{instance['title']} from the 1980s to the 1990s\""
   ]
  },
  {
   "cell_type": "code",
   "execution_count": null,
   "id": "b5eb6183-59bc-46b2-b56c-a15a777a78e1",
   "metadata": {
    "tags": []
   },
   "outputs": [],
   "source": [
    "instance['editions'] = [\"Second\"]"
   ]
  },
  {
   "cell_type": "code",
   "execution_count": null,
   "id": "d9f97634-9411-4551-a104-2616b5b98fc7",
   "metadata": {
    "tags": []
   },
   "outputs": [],
   "source": [
    "post_result = requests.post(f\"{folio_client.okapi_url}/instance-storage/instances\",\n",
    "                            headers=folio_client.okapi_headers,\n",
    "                            json=instance)"
   ]
  },
  {
   "cell_type": "code",
   "execution_count": null,
   "id": "66069c95-579d-4b11-a11a-e764175e9936",
   "metadata": {
    "tags": []
   },
   "outputs": [],
   "source": [
    "new_instance = post_result.json()"
   ]
  },
  {
   "cell_type": "code",
   "execution_count": null,
   "id": "a359b762-6f1f-4562-b2ca-fe8a7e2d7f58",
   "metadata": {
    "tags": []
   },
   "outputs": [],
   "source": [
    "new_instance['subjects']"
   ]
  },
  {
   "cell_type": "markdown",
   "id": "760d7204-fb89-401c-a562-818f74c39e13",
   "metadata": {},
   "source": [
    "## Updating an Existing Resource"
   ]
  },
  {
   "cell_type": "code",
   "execution_count": null,
   "id": "d33265b3-b237-4e5b-a385-53501471e476",
   "metadata": {
    "tags": []
   },
   "outputs": [],
   "source": [
    "new_instance['subjects'].append(\"Desktop software\")"
   ]
  },
  {
   "cell_type": "code",
   "execution_count": null,
   "id": "dd080dc0-c9a0-4a4c-92e1-234902feceb3",
   "metadata": {
    "tags": []
   },
   "outputs": [],
   "source": [
    "new_instance[\"notes\"].append({\n",
    "    \"note\": \"Requires Macintosh 7.0 emulator\",\n",
    "    \"staffOnly\": False})"
   ]
  },
  {
   "cell_type": "code",
   "execution_count": null,
   "id": "fe936b1e-fedd-4e0f-8a53-e23720eb6a65",
   "metadata": {
    "tags": []
   },
   "outputs": [],
   "source": [
    "new_instance['_version'] = 1"
   ]
  },
  {
   "cell_type": "code",
   "execution_count": null,
   "id": "483e2ec9-4ca7-4dc0-899b-c97eb1a0a307",
   "metadata": {
    "tags": []
   },
   "outputs": [],
   "source": [
    "new_instance['_version']"
   ]
  },
  {
   "cell_type": "code",
   "execution_count": null,
   "id": "71a6b0c1-a13b-41e2-bd65-a2451f0b38d4",
   "metadata": {
    "tags": []
   },
   "outputs": [],
   "source": [
    "put_result = requests.put(f\"{folio_client.okapi_url}/instance-storage/instances/{new_instance['id']}\",\n",
    "                          headers=folio_client.okapi_headers,\n",
    "                          json=new_instance)\n",
    "print(put_result.status_code)"
   ]
  },
  {
   "cell_type": "code",
   "execution_count": null,
   "id": "33bb64f6-d7e4-4646-aadd-cd89434bc923",
   "metadata": {
    "tags": []
   },
   "outputs": [],
   "source": [
    "put_result.text"
   ]
  },
  {
   "cell_type": "markdown",
   "id": "14938488-4777-49a0-a619-416e96d0f0d0",
   "metadata": {},
   "source": [
    "### Check updated Resource"
   ]
  },
  {
   "cell_type": "code",
   "execution_count": null,
   "id": "56fccbb4-c80b-474c-b56f-cc4dde209775",
   "metadata": {
    "tags": []
   },
   "outputs": [],
   "source": [
    "retrieve_result = folio_client.folio_get(f\"/inventory/instances/{new_instance['id']}\")"
   ]
  },
  {
   "cell_type": "code",
   "execution_count": null,
   "id": "6b09affe-cc4b-4dd4-a3af-d3f27adfba86",
   "metadata": {
    "tags": []
   },
   "outputs": [],
   "source": [
    "retrieve_result[\"editions\"]"
   ]
  },
  {
   "cell_type": "markdown",
   "id": "a6853300-d3c0-475e-9d32-d10f9ee438d6",
   "metadata": {},
   "source": [
    "## Deleting an Resource"
   ]
  },
  {
   "cell_type": "code",
   "execution_count": null,
   "id": "80b6227e-7133-428c-96b1-e262b2092590",
   "metadata": {
    "tags": []
   },
   "outputs": [],
   "source": [
    "delete_result = requests.delete(f\"{folio_client.okapi_url}/instance-storage/instances/{new_instance['id']}\",\n",
    "                                headers=folio_client.okapi_headers)\n",
    "print(delete_result)"
   ]
  },
  {
   "cell_type": "markdown",
   "id": "e2883595-c6fa-4114-9ec5-d54352be0f62",
   "metadata": {},
   "source": [
    "### Check to see Resource is no longer in FOLIO"
   ]
  },
  {
   "cell_type": "code",
   "execution_count": null,
   "id": "e6bf1307-78be-4c0d-885f-154df8af2ac9",
   "metadata": {
    "tags": []
   },
   "outputs": [],
   "source": [
    "does_exist = requests.get(f\"{folio_client.okapi_url}/instance-storage/instances/{new_instance['id']}\",\n",
    "                          headers=folio_client.okapi_headers)\n",
    "# Should be a 404 (Not found) HTTP code\n",
    "print(does_exist)"
   ]
  }
 ],
 "metadata": {
  "kernelspec": {
   "display_name": "Python 3 (ipykernel)",
   "language": "python",
   "name": "python3"
  },
  "language_info": {
   "codemirror_mode": {
    "name": "ipython",
    "version": 3
   },
   "file_extension": ".py",
   "mimetype": "text/x-python",
   "name": "python",
   "nbconvert_exporter": "python",
   "pygments_lexer": "ipython3",
   "version": "3.11.1"
  }
 },
 "nbformat": 4,
 "nbformat_minor": 5
}
