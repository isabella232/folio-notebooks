{
 "cells": [
  {
   "cell_type": "markdown",
   "id": "76f453c6-bd82-466e-9c3c-35b6f502f47f",
   "metadata": {},
   "source": [
    "# Basic Use of FOLIO with Jupyter Notebooks\n",
    "To illustrate the use of [Jupyter notebooks](https://jupyter.org/) with [FOLIO](https://www.folio.org/), this notebook uses Ebsco's [FolioClient](https://github.com/FOLIO-FSE/FolioClient) and the [requests](https://requests.readthedocs.io/en/latest/) HTTP Python package.\n",
    "\n",
    "It is helpful have the Okapi API documentation readily available at https://dev.folio.org/reference/api/ when using the FolioClient or direct Okapi interactions."
   ]
  },
  {
   "cell_type": "markdown",
   "id": "ba392e5c-8954-4bad-93a2-db7570088d64",
   "metadata": {},
   "source": [
    "## Installing Locally\n",
    "\n",
    "1. Download and Install [Python 3.10](https://www.python.org/) or later for your platform\n",
    "1. Create a virtual environment: `python3 -m venv folio-env`\n",
    "1. Activate your environment (for mac or Linux) `source folio-env/bin/activate`\n",
    "1. Install the following dependencies:\n",
    "    - Jupyter Lab `pip install jupyterlab`\n",
    "    - Requests `pip install requests`\n",
    "    - FolioClient `pip install folioclient`\n",
    "1. Start Jupyter lab `~/% jupyter-lab` from the root directory"
   ]
  },
  {
   "cell_type": "markdown",
   "id": "18da8d5c-209d-45b7-b336-505501b7e9a6",
   "metadata": {},
   "source": [
    "## Create a FolioClient Instance"
   ]
  },
  {
   "cell_type": "code",
   "execution_count": null,
   "id": "e19950d0-65e7-4290-8142-15751551c376",
   "metadata": {
    "tags": []
   },
   "outputs": [],
   "source": [
    "import os\n",
    "okapi_url = os.getenv(\"OKAPI_URL\")\n",
    "user = os.getenv(\"OKAPI_USER\")\n",
    "password = os.getenv(\"OKAPI_PASSWORD\")\n",
    "tenant = os.getenv(\"TENANT\")"
   ]
  },
  {
   "cell_type": "code",
   "execution_count": null,
   "id": "daeed412-8269-4ca9-8cf1-03be33949c9c",
   "metadata": {},
   "outputs": [],
   "source": [
    "from folioclient import FolioClient\n",
    "\n",
    "FolioClient?"
   ]
  },
  {
   "cell_type": "code",
   "execution_count": null,
   "id": "f5e14982-bac2-4e16-8917-940b46e58579",
   "metadata": {
    "tags": []
   },
   "outputs": [],
   "source": [
    "folio_client = FolioClient(\n",
    "    okapi_url,\n",
    "    tenant,\n",
    "    user,\n",
    "    password)"
   ]
  },
  {
   "cell_type": "markdown",
   "id": "9d76f170-0e00-4410-9033-0e0aafeaea02",
   "metadata": {},
   "source": [
    "## Helpful Methods in FolioClient\n",
    "The Folio Client has a number of convenience methods that wrap specific Okapi endpoints for reference data used in different modules. \n",
    "\n",
    "### Locations"
   ]
  },
  {
   "cell_type": "code",
   "execution_count": null,
   "id": "45adc7a9-fc43-41b1-b00f-e824cc74dc54",
   "metadata": {
    "tags": []
   },
   "outputs": [],
   "source": [
    "for row in folio_client.locations:\n",
    "    print(row['code'], row['id'])"
   ]
  },
  {
   "cell_type": "markdown",
   "id": "228a25c3-3f29-43c3-897e-9ad5b258790f",
   "metadata": {},
   "source": [
    "### Identifier Types"
   ]
  },
  {
   "cell_type": "code",
   "execution_count": null,
   "id": "4d8e9b93-af46-4ea6-9a99-2e45ddb8911d",
   "metadata": {
    "tags": []
   },
   "outputs": [],
   "source": [
    "for row in folio_client.identifier_types:\n",
    "    print(row['name'], row['id'])"
   ]
  },
  {
   "cell_type": "markdown",
   "id": "01a56b61-7420-41ad-8eaa-806d51f94308",
   "metadata": {},
   "source": [
    "## Retrieve specific Resources\n",
    "With the [Inventory Okapi APIs](https://s3.amazonaws.com/foliodocs/api/mod-inventory/p/inventory.html#inventory_instances__instanceid__get), we can use the folio_client's `folio_get` method to retrieve Instance, Holdings, and Items records from FOLIO."
   ]
  },
  {
   "cell_type": "code",
   "execution_count": null,
   "id": "36ba3ced-e2b4-4cff-9f6b-10d4ea9e0d89",
   "metadata": {},
   "outputs": [],
   "source": [
    "folio_client.folio_get?"
   ]
  },
  {
   "cell_type": "code",
   "execution_count": null,
   "id": "3c6d3677-0abf-4555-ab63-6c5de32d45d6",
   "metadata": {
    "tags": []
   },
   "outputs": [],
   "source": [
    "instance = folio_client.folio_get(\"/inventory/instances/56270f55-b522-5477-8308-2024345f1e10\")"
   ]
  },
  {
   "cell_type": "code",
   "execution_count": null,
   "id": "3f2c7eea-9a86-4cbd-bc2a-be350c8d1ed2",
   "metadata": {
    "tags": []
   },
   "outputs": [],
   "source": [
    "instance"
   ]
  },
  {
   "cell_type": "markdown",
   "id": "690c377e-e5d7-4219-88f8-c0e2f4cc26a7",
   "metadata": {},
   "source": [
    "With the instance's identifiers provide values and the identifier types as a UUID, we don't have from the record a human recognizable labels for these identifier types. We can easily use `folio_client.identifier_types` method and print them in a Jupyter notebook cell."
   ]
  },
  {
   "cell_type": "code",
   "execution_count": null,
   "id": "cd29e83c-96e4-46c1-82c3-219e188c2110",
   "metadata": {
    "tags": []
   },
   "outputs": [],
   "source": [
    "# Create an identifier type dictionary to map the uuid to the label\n",
    "identifier_lookup = dict()\n",
    "for row in folio_client.identifier_types:\n",
    "    identifier_lookup[row['id']] = row['name']"
   ]
  },
  {
   "cell_type": "code",
   "execution_count": null,
   "id": "cedbe64c-9d93-4409-be82-0b530c1b3a03",
   "metadata": {
    "tags": []
   },
   "outputs": [],
   "source": [
    "for id_row in instance['identifiers']:\n",
    "    print(id_row['value'], identifier_lookup[id_row['identifierTypeId']])"
   ]
  },
  {
   "cell_type": "code",
   "execution_count": null,
   "id": "5e1f61aa-7be6-4c0a-9202-68aec1397107",
   "metadata": {
    "tags": []
   },
   "outputs": [],
   "source": [
    "holdings_record = folio_client.folio_get(\"/holdings-storage/holdings/f7365adc-7a27-50cb-b575-88b858d01057\")"
   ]
  },
  {
   "cell_type": "code",
   "execution_count": null,
   "id": "37df0ea5-08bd-4fef-855e-3d42862645cd",
   "metadata": {
    "tags": []
   },
   "outputs": [],
   "source": [
    "holdings_record"
   ]
  },
  {
   "cell_type": "code",
   "execution_count": null,
   "id": "bbd12ad8-d429-4a0c-8113-7bb3ea71088f",
   "metadata": {
    "tags": []
   },
   "outputs": [],
   "source": [
    "instance['id'] == holdings_record['instanceId']"
   ]
  },
  {
   "cell_type": "code",
   "execution_count": null,
   "id": "72bfff92-52c8-4332-ad15-bc148a66071f",
   "metadata": {
    "tags": []
   },
   "outputs": [],
   "source": [
    "item = folio_client.folio_get(\"/inventory/items/29b59836-0359-50e6-891a-587cb7b84928\")"
   ]
  },
  {
   "cell_type": "code",
   "execution_count": null,
   "id": "35606e2e-9f41-4acc-ad76-bbf8d1b13d59",
   "metadata": {
    "tags": []
   },
   "outputs": [],
   "source": [
    "item"
   ]
  },
  {
   "cell_type": "code",
   "execution_count": null,
   "id": "00d84c26-de9b-4cb6-b3d4-d4832dbcae53",
   "metadata": {
    "tags": []
   },
   "outputs": [],
   "source": [
    "item['holdingsRecordId'] == holdings_record['id']"
   ]
  },
  {
   "cell_type": "markdown",
   "id": "1389faf9-55ff-4a5e-9c37-f3efef4665da",
   "metadata": {},
   "source": [
    "## Alternative Okapi Interactions with requests\n",
    "The [requests](https://requests.readthedocs.io/en/latest/) Python package is used by the FolioClient for communicating with Okapi, however, you can directly use `requests` to query Okapi."
   ]
  },
  {
   "cell_type": "code",
   "execution_count": null,
   "id": "961f9ac1-25d3-42b2-b251-2570db234fd8",
   "metadata": {
    "tags": []
   },
   "outputs": [],
   "source": [
    "import requests\n",
    "\n",
    "course_listings_result = requests.get(f\"{folio_client.okapi_url}/coursereserves/courselistings\",\n",
    "                                      headers=folio_client.okapi_headers)"
   ]
  },
  {
   "cell_type": "code",
   "execution_count": null,
   "id": "4fcd0fef-3bcd-4ed9-904e-e24d136848ce",
   "metadata": {
    "tags": []
   },
   "outputs": [],
   "source": [
    "course_listings_result"
   ]
  },
  {
   "cell_type": "code",
   "execution_count": null,
   "id": "d3491097-d4fb-4f2d-a8db-a86970bbfdff",
   "metadata": {
    "tags": []
   },
   "outputs": [],
   "source": [
    "course_listings_result.json()['courseListings']"
   ]
  }
 ],
 "metadata": {
  "kernelspec": {
   "display_name": "Python 3 (ipykernel)",
   "language": "python",
   "name": "python3"
  },
  "language_info": {
   "codemirror_mode": {
    "name": "ipython",
    "version": 3
   },
   "file_extension": ".py",
   "mimetype": "text/x-python",
   "name": "python",
   "nbconvert_exporter": "python",
   "pygments_lexer": "ipython3",
   "version": "3.11.1"
  }
 },
 "nbformat": 4,
 "nbformat_minor": 5
}
