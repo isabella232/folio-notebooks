{
 "cells": [
  {
   "cell_type": "markdown",
   "id": "c87bbf01-fd2f-4fe8-9dc8-76db30cb848e",
   "metadata": {},
   "source": [
    "# More Advanced Uses"
   ]
  },
  {
   "cell_type": "markdown",
   "id": "f99efd97-0626-45e3-a02d-341028370381",
   "metadata": {},
   "source": [
    "## Creating Resource"
   ]
  },
  {
   "cell_type": "markdown",
   "id": "760d7204-fb89-401c-a562-818f74c39e13",
   "metadata": {},
   "source": [
    "## Updating an Existing Resource"
   ]
  },
  {
   "cell_type": "markdown",
   "id": "a6853300-d3c0-475e-9d32-d10f9ee438d6",
   "metadata": {},
   "source": [
    "## Deleting an Resource"
   ]
  },
  {
   "cell_type": "code",
   "execution_count": null,
   "id": "5079095e-e2ef-43dc-8108-1a036c5b2766",
   "metadata": {},
   "outputs": [],
   "source": []
  }
 ],
 "metadata": {
  "kernelspec": {
   "display_name": "Python 3 (ipykernel)",
   "language": "python",
   "name": "python3"
  },
  "language_info": {
   "codemirror_mode": {
    "name": "ipython",
    "version": 3
   },
   "file_extension": ".py",
   "mimetype": "text/x-python",
   "name": "python",
   "nbconvert_exporter": "python",
   "pygments_lexer": "ipython3",
   "version": "3.11.1"
  }
 },
 "nbformat": 4,
 "nbformat_minor": 5
}
